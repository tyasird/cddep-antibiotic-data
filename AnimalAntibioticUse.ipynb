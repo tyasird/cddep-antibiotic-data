{
 "cells": [
  {
   "cell_type": "code",
   "execution_count": 14,
   "metadata": {},
   "outputs": [],
   "source": [
    "import requests\n",
    "from bs4 import BeautifulSoup\n",
    "import re\n",
    "import math\n",
    "import itertools\n",
    "import json\n",
    "import urllib\n",
    "from pandas.io.json import json_normalize\n",
    "import pandas as pd\n",
    "import time\n",
    "\n",
    "  \n",
    "\n",
    "with open('chicken.json') as f:\n",
    "    d1 = json.load(f)\n",
    "    d1 = pd.DataFrame(d1)\n",
    "    d1['animal'] = \"chicken\"\n",
    "        \n",
    "\n",
    "with open('pig.json') as f:\n",
    "    d2 = json.load(f)\n",
    "    d2 = pd.DataFrame(d2)\n",
    "    d2['animal'] = \"pig\"\n",
    "        \n",
    "\n",
    "with open('cattle.json') as f:\n",
    "    d3 = json.load(f)\n",
    "    d3 = pd.DataFrame(d3)\n",
    "    d3['animal'] = \"cattle\"\n",
    "\n",
    "\n",
    "all = pd.concat([d1,d2,d3],ignore_index=True)\n",
    "\n",
    "all.to_excel(\"AnimalAntibioticResistance.xlsx\", index=False, header=True)"
   ]
  }
 ],
 "metadata": {
  "kernelspec": {
   "display_name": "Python 3",
   "language": "python",
   "name": "python3"
  },
  "language_info": {
   "codemirror_mode": {
    "name": "ipython",
    "version": 3
   },
   "file_extension": ".py",
   "mimetype": "text/x-python",
   "name": "python",
   "nbconvert_exporter": "python",
   "pygments_lexer": "ipython3",
   "version": "3.8.2"
  }
 },
 "nbformat": 4,
 "nbformat_minor": 4
}
